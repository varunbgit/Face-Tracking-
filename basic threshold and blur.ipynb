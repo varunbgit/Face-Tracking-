{
 "cells": [
  {
   "cell_type": "code",
   "execution_count": 1,
   "id": "be3c7ee8",
   "metadata": {},
   "outputs": [],
   "source": [
    "import cv2\n"
   ]
  },
  {
   "cell_type": "code",
   "execution_count": 2,
   "id": "e61717ac",
   "metadata": {},
   "outputs": [],
   "source": [
    "img=cv2.imread(\"modi.jpeg\")\n"
   ]
  },
  {
   "cell_type": "code",
   "execution_count": 3,
   "id": "c0d6f880",
   "metadata": {},
   "outputs": [
    {
     "data": {
      "text/plain": [
       "array([[[166, 163, 165],\n",
       "        [162, 159, 161],\n",
       "        [158, 155, 157],\n",
       "        ...,\n",
       "        [ 72,  58,  62],\n",
       "        [ 78,  67,  70],\n",
       "        [ 86,  75,  78]],\n",
       "\n",
       "       [[165, 162, 164],\n",
       "        [162, 159, 161],\n",
       "        [157, 154, 156],\n",
       "        ...,\n",
       "        [ 71,  57,  61],\n",
       "        [ 77,  66,  69],\n",
       "        [ 86,  75,  78]],\n",
       "\n",
       "       [[164, 161, 163],\n",
       "        [161, 158, 160],\n",
       "        [156, 153, 155],\n",
       "        ...,\n",
       "        [ 70,  56,  60],\n",
       "        [ 76,  65,  68],\n",
       "        [ 85,  74,  77]],\n",
       "\n",
       "       ...,\n",
       "\n",
       "       [[ 63,  68,   6],\n",
       "        [ 61,  69,   6],\n",
       "        [ 59,  68,   5],\n",
       "        ...,\n",
       "        [ 52,  67,  29],\n",
       "        [ 51,  66,  28],\n",
       "        [ 50,  65,  27]],\n",
       "\n",
       "       [[ 63,  68,   6],\n",
       "        [ 63,  68,   6],\n",
       "        [ 60,  68,   5],\n",
       "        ...,\n",
       "        [ 52,  67,  29],\n",
       "        [ 51,  66,  28],\n",
       "        [ 50,  65,  27]],\n",
       "\n",
       "       [[ 65,  68,   6],\n",
       "        [ 63,  68,   6],\n",
       "        [ 60,  68,   5],\n",
       "        ...,\n",
       "        [ 52,  67,  29],\n",
       "        [ 51,  66,  28],\n",
       "        [ 50,  65,  27]]], dtype=uint8)"
      ]
     },
     "execution_count": 3,
     "metadata": {},
     "output_type": "execute_result"
    }
   ],
   "source": [
    "img\n"
   ]
  },
  {
   "cell_type": "code",
   "execution_count": 4,
   "id": "a58356f7",
   "metadata": {},
   "outputs": [],
   "source": [
    "gauusianblur=cv2.GaussianBlur(img,(21,21),0)"
   ]
  },
  {
   "cell_type": "code",
   "execution_count": 6,
   "id": "3980af6f",
   "metadata": {},
   "outputs": [
    {
     "data": {
      "text/plain": [
       "True"
      ]
     },
     "execution_count": 6,
     "metadata": {},
     "output_type": "execute_result"
    }
   ],
   "source": [
    "cv2.imwrite(\"gaussianblur.jpeg\",gauusianblur)"
   ]
  },
  {
   "cell_type": "code",
   "execution_count": 9,
   "id": "0a672dbb",
   "metadata": {},
   "outputs": [],
   "source": [
    "threshimg=cv2.threshold(img,180,255,cv2.THRESH_BINARY)[1]"
   ]
  },
  {
   "cell_type": "code",
   "execution_count": 10,
   "id": "0ba321fa",
   "metadata": {},
   "outputs": [
    {
     "data": {
      "text/plain": [
       "True"
      ]
     },
     "execution_count": 10,
     "metadata": {},
     "output_type": "execute_result"
    }
   ],
   "source": [
    "cv2.imwrite(\"threshold.jpeg\",threshimg)"
   ]
  },
  {
   "cell_type": "code",
   "execution_count": null,
   "id": "09f1c031",
   "metadata": {},
   "outputs": [],
   "source": []
  }
 ],
 "metadata": {
  "kernelspec": {
   "display_name": "Python 3",
   "language": "python",
   "name": "python3"
  },
  "language_info": {
   "codemirror_mode": {
    "name": "ipython",
    "version": 3
   },
   "file_extension": ".py",
   "mimetype": "text/x-python",
   "name": "python",
   "nbconvert_exporter": "python",
   "pygments_lexer": "ipython3",
   "version": "3.8.8"
  }
 },
 "nbformat": 4,
 "nbformat_minor": 5
}
