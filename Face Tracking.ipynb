{
 "cells": [
  {
   "cell_type": "code",
   "execution_count": null,
   "id": "e0c44e4d",
   "metadata": {},
   "outputs": [],
   "source": [
    "import cv2\n",
    "import time\n",
    "import imutils\n"
   ]
  },
  {
   "cell_type": "code",
   "execution_count": null,
   "id": "ef84717b",
   "metadata": {},
   "outputs": [],
   "source": [
    "cam=cv2.VideoCapture(0)"
   ]
  },
  {
   "cell_type": "code",
   "execution_count": null,
   "id": "f231c3aa",
   "metadata": {},
   "outputs": [],
   "source": [
    "firstframe=None\n",
    "area=500"
   ]
  },
  {
   "cell_type": "code",
   "execution_count": null,
   "id": "d10e2ddd",
   "metadata": {},
   "outputs": [],
   "source": [
    "while True:\n",
    "    ret,img=cam.read()\n",
    "    text=\"Normal\"\n",
    "    img=imutils.resize(img,width=500)\n",
    "    grayimg=cv2.cvtColor(img,cv2.COLOR_BGR2GRAY)\n",
    "    gaussimg=cv2.GaussianBlur(grayimg,(21,21),0)\n",
    "    if firstframe is None:\n",
    "        firstframe=gaussimg\n",
    "        continue\n",
    "    imgdiff=cv2.absdiff(firstframe,gaussimg)\n",
    "    threshimg=cv2.threshold(imgdiff,180,255,cv2.THRESH_BINARY)[1]\n",
    "    threshimg=thresh = cv2.dilate(threshimg, None, iterations=2)\n",
    "    cnts=cv2.findContours(threshimg.copy(),cv2.RETR_EXTERNAL,cv2.CHAIN_APPROX_SIMPLE)\n",
    "    cnts=imutils.grab_contours(cnts)\n",
    "    for c in cnts:\n",
    "        if cv2.contourArea(c)<area:\n",
    "            continue\n",
    "        (x,y,w,h)=cv2.boundingRect(c)\n",
    "        cv2.rectangle((x,y),(x+w,y+h),(0,255,0),2)\n",
    "        text=\"moving object detected\"\n",
    "    print (text)\n",
    "    cv2.putText(img,text,(10,20),cv2.FONT_HERSHEY_SIMPLEX,0.5,(0,0,255),2)\n",
    "    cv2.imshow(\"move\",img)\n",
    "    if cv2.waitKey(1) ==13:\n",
    "        break\n",
    "cv2.destroyAllWindows()\n",
    "cam.destroy()"
   ]
  },
  {
   "cell_type": "code",
   "execution_count": null,
   "id": "638f5827",
   "metadata": {},
   "outputs": [],
   "source": []
  },
  {
   "cell_type": "code",
   "execution_count": null,
   "id": "a36901f5",
   "metadata": {},
   "outputs": [],
   "source": []
  }
 ],
 "metadata": {
  "kernelspec": {
   "display_name": "Python 3",
   "language": "python",
   "name": "python3"
  },
  "language_info": {
   "codemirror_mode": {
    "name": "ipython",
    "version": 3
   },
   "file_extension": ".py",
   "mimetype": "text/x-python",
   "name": "python",
   "nbconvert_exporter": "python",
   "pygments_lexer": "ipython3",
   "version": "3.8.8"
  }
 },
 "nbformat": 4,
 "nbformat_minor": 5
}
